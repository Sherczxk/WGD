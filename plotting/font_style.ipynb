{
 "cells": [
  {
   "cell_type": "code",
   "execution_count": 1,
   "metadata": {},
   "outputs": [
    {
     "data": {
      "text/html": [
       "<div style='column-count: 2;'><p>Cantarell: <span style='font-family:Cantarell; font-size: 24px;'>Cantarell</p>\n",
       "<p>DejaVu Sans: <span style='font-family:DejaVu Sans; font-size: 24px;'>DejaVu Sans</p>\n",
       "<p>DejaVu Sans Display: <span style='font-family:DejaVu Sans Display; font-size: 24px;'>DejaVu Sans Display</p>\n",
       "<p>DejaVu Sans Mono: <span style='font-family:DejaVu Sans Mono; font-size: 24px;'>DejaVu Sans Mono</p>\n",
       "<p>DejaVu Serif: <span style='font-family:DejaVu Serif; font-size: 24px;'>DejaVu Serif</p>\n",
       "<p>DejaVu Serif Display: <span style='font-family:DejaVu Serif Display; font-size: 24px;'>DejaVu Serif Display</p>\n",
       "<p>Droid Sans Fallback: <span style='font-family:Droid Sans Fallback; font-size: 24px;'>Droid Sans Fallback</p>\n",
       "<p>FreeMono: <span style='font-family:FreeMono; font-size: 24px;'>FreeMono</p>\n",
       "<p>FreeSans: <span style='font-family:FreeSans; font-size: 24px;'>FreeSans</p>\n",
       "<p>FreeSerif: <span style='font-family:FreeSerif; font-size: 24px;'>FreeSerif</p>\n",
       "<p>MathJax_AMS: <span style='font-family:MathJax_AMS; font-size: 24px;'>MathJax_AMS</p>\n",
       "<p>MathJax_Caligraphic: <span style='font-family:MathJax_Caligraphic; font-size: 24px;'>MathJax_Caligraphic</p>\n",
       "<p>MathJax_Fraktur: <span style='font-family:MathJax_Fraktur; font-size: 24px;'>MathJax_Fraktur</p>\n",
       "<p>MathJax_Main: <span style='font-family:MathJax_Main; font-size: 24px;'>MathJax_Main</p>\n",
       "<p>MathJax_Math: <span style='font-family:MathJax_Math; font-size: 24px;'>MathJax_Math</p>\n",
       "<p>MathJax_SansSerif: <span style='font-family:MathJax_SansSerif; font-size: 24px;'>MathJax_SansSerif</p>\n",
       "<p>MathJax_Script: <span style='font-family:MathJax_Script; font-size: 24px;'>MathJax_Script</p>\n",
       "<p>MathJax_Size1: <span style='font-family:MathJax_Size1; font-size: 24px;'>MathJax_Size1</p>\n",
       "<p>MathJax_Size2: <span style='font-family:MathJax_Size2; font-size: 24px;'>MathJax_Size2</p>\n",
       "<p>MathJax_Size3: <span style='font-family:MathJax_Size3; font-size: 24px;'>MathJax_Size3</p>\n",
       "<p>MathJax_Size4: <span style='font-family:MathJax_Size4; font-size: 24px;'>MathJax_Size4</p>\n",
       "<p>MathJax_Typewriter: <span style='font-family:MathJax_Typewriter; font-size: 24px;'>MathJax_Typewriter</p>\n",
       "<p>MathJax_Vector: <span style='font-family:MathJax_Vector; font-size: 24px;'>MathJax_Vector</p>\n",
       "<p>MathJax_Vector-Bold: <span style='font-family:MathJax_Vector-Bold; font-size: 24px;'>MathJax_Vector-Bold</p>\n",
       "<p>MathJax_WinChrome: <span style='font-family:MathJax_WinChrome; font-size: 24px;'>MathJax_WinChrome</p>\n",
       "<p>MathJax_WinIE6: <span style='font-family:MathJax_WinIE6; font-size: 24px;'>MathJax_WinIE6</p>\n",
       "<p>Noto Mono: <span style='font-family:Noto Mono; font-size: 24px;'>Noto Mono</p>\n",
       "<p>STIXGeneral: <span style='font-family:STIXGeneral; font-size: 24px;'>STIXGeneral</p>\n",
       "<p>STIXNonUnicode: <span style='font-family:STIXNonUnicode; font-size: 24px;'>STIXNonUnicode</p>\n",
       "<p>STIXSizeFiveSym: <span style='font-family:STIXSizeFiveSym; font-size: 24px;'>STIXSizeFiveSym</p>\n",
       "<p>STIXSizeFourSym: <span style='font-family:STIXSizeFourSym; font-size: 24px;'>STIXSizeFourSym</p>\n",
       "<p>STIXSizeOneSym: <span style='font-family:STIXSizeOneSym; font-size: 24px;'>STIXSizeOneSym</p>\n",
       "<p>STIXSizeThreeSym: <span style='font-family:STIXSizeThreeSym; font-size: 24px;'>STIXSizeThreeSym</p>\n",
       "<p>STIXSizeTwoSym: <span style='font-family:STIXSizeTwoSym; font-size: 24px;'>STIXSizeTwoSym</p>\n",
       "<p>Ubuntu: <span style='font-family:Ubuntu; font-size: 24px;'>Ubuntu</p>\n",
       "<p>Ubuntu Condensed: <span style='font-family:Ubuntu Condensed; font-size: 24px;'>Ubuntu Condensed</p>\n",
       "<p>Ubuntu Mono: <span style='font-family:Ubuntu Mono; font-size: 24px;'>Ubuntu Mono</p>\n",
       "<p>cmb10: <span style='font-family:cmb10; font-size: 24px;'>cmb10</p>\n",
       "<p>cmex10: <span style='font-family:cmex10; font-size: 24px;'>cmex10</p>\n",
       "<p>cmmi10: <span style='font-family:cmmi10; font-size: 24px;'>cmmi10</p>\n",
       "<p>cmr10: <span style='font-family:cmr10; font-size: 24px;'>cmr10</p>\n",
       "<p>cmss10: <span style='font-family:cmss10; font-size: 24px;'>cmss10</p>\n",
       "<p>cmsy10: <span style='font-family:cmsy10; font-size: 24px;'>cmsy10</p>\n",
       "<p>cmtt10: <span style='font-family:cmtt10; font-size: 24px;'>cmtt10</p></div>"
      ],
      "text/plain": [
       "<IPython.core.display.HTML object>"
      ]
     },
     "execution_count": 1,
     "metadata": {},
     "output_type": "execute_result"
    }
   ],
   "source": [
    "import matplotlib.font_manager\n",
    "from IPython.core.display import HTML\n",
    "\n",
    "def make_html(fontname):\n",
    "    return \"<p>{font}: <span style='font-family:{font}; font-size: 24px;'>{font}</p>\".format(font=fontname)\n",
    "\n",
    "code = \"\\n\".join([make_html(font) for font in sorted(set([f.name for f in matplotlib.font_manager.fontManager.ttflist]))])\n",
    "\n",
    "HTML(\"<div style='column-count: 2;'>{}</div>\".format(code))"
   ]
  },
  {
   "cell_type": "code",
   "execution_count": null,
   "metadata": {},
   "outputs": [],
   "source": []
  }
 ],
 "metadata": {
  "kernelspec": {
   "display_name": "Python 3",
   "language": "python",
   "name": "python3"
  },
  "language_info": {
   "codemirror_mode": {
    "name": "ipython",
    "version": 3
   },
   "file_extension": ".py",
   "mimetype": "text/x-python",
   "name": "python",
   "nbconvert_exporter": "python",
   "pygments_lexer": "ipython3",
   "version": "3.9.13"
  }
 },
 "nbformat": 4,
 "nbformat_minor": 2
}
